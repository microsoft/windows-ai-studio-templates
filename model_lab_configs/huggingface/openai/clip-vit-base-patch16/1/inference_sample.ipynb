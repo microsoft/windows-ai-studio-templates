{
 "cells": [
  {
   "cell_type": "markdown",
   "id": "897ffb42-3569-4d78-b99d-355a38fdce35",
   "metadata": {},
   "source": [
    "### Data Processor"
   ]
  },
  {
   "cell_type": "code",
   "execution_count": null,
   "id": "fa8d84cd-4853-4746-bce3-b281bfc23d8b",
   "metadata": {},
   "outputs": [],
   "source": [
    "from transformers import CLIPProcessor\n",
    "processor = CLIPProcessor.from_pretrained(\"openai/clip-vit-base-patch16\")"
   ]
  },
  {
   "cell_type": "markdown",
   "id": "5568eb71-5812-4c74-989c-c12271d33b12",
   "metadata": {},
   "source": [
    "### Model Inference with ORT-QNN"
   ]
  },
  {
   "cell_type": "code",
   "execution_count": null,
   "id": "3d5f0d91-eb0a-4cfe-9582-d5b1e71025bf",
   "metadata": {},
   "outputs": [],
   "source": [
    "from pathlib import Path\n",
    "\n",
    "text_model_path = Path(\"./outputs/openai/clip/text/model/model.onnx_ctx.onnx\").resolve()\n",
    "vision_model_path = Path(\"./outputs/openai/clip/vision/model/model.onnx_ctx.onnx\").resolve()\n",
    "(text_model_path, vision_model_path)"
   ]
  },
  {
   "cell_type": "code",
   "execution_count": null,
   "id": "02bad4ec-f477-4659-8584-00735f6ed5a9",
   "metadata": {},
   "outputs": [],
   "source": [
    "from qnpumodel import QNPUModule\n",
    "\n",
    "text_model = QNPUModule(text_model_path)\n",
    "vision_model = QNPUModule(vision_model_path)\n",
    "\n",
    "def get_image_embedding(image):\n",
    "    inputs = processor(images=image, return_tensors=\"pt\")\n",
    "    output = vision_model.run(inputs)\n",
    "    return output[\"embeds\"]\n",
    "\n",
    "def _create_4d_mask(mask, input_shape, masked_value=-50.0):\n",
    "    batch_sz, seq_len = input_shape\n",
    "    expanded_mask = mask[:, None, None, :].expand(\n",
    "        batch_sz, 1, seq_len, seq_len)\n",
    "    inverted_mask = 1.0 - expanded_mask.float()\n",
    "    return inverted_mask.masked_fill(inverted_mask.bool(), masked_value)\n",
    "\n",
    "def get_text_embedding(text):\n",
    "    inputs = processor(\n",
    "        text=text,\n",
    "        padding=\"max_length\",\n",
    "        max_length=text_model.sequence_length,\n",
    "        truncation=True,\n",
    "        add_special_tokens=True,\n",
    "        return_tensors=\"pt\",\n",
    "    )\n",
    "    output = text_model.run({\n",
    "        \"input_ids\": inputs[\"input_ids\"].int(),\n",
    "        \"attention_mask\": _create_4d_mask(\n",
    "            inputs[\"attention_mask\"],\n",
    "            inputs[\"input_ids\"].shape,\n",
    "        ),\n",
    "    })\n",
    "    return output[\"embeds\"]\n",
    "\n",
    "def calculate_score(text_emb, image_emb):\n",
    "    import torch\n",
    "    image_emb /= torch.norm(image_emb, dim=-1, keepdim=True)\n",
    "    text_emb /= torch.norm(text_emb, dim=-1, keepdim=True)\n",
    "    return torch.softmax(torch.matmul(text_emb, image_emb.T) * 100.0, dim=0)\n",
    "\n",
    "def ask(image, caption):\n",
    "    image_emb = get_image_embedding(image)\n",
    "    text_emb = get_text_embedding([caption, \"a photo of a thing\"])\n",
    "    score = calculate_score(text_emb, image_emb)\n",
    "    return round(score[0].item(), 2)"
   ]
  },
  {
   "cell_type": "markdown",
   "id": "3477e36c-2e72-432b-ae81-602073a3754c",
   "metadata": {},
   "source": [
    "### Play with Samples"
   ]
  },
  {
   "cell_type": "code",
   "execution_count": null,
   "id": "16868fbd-e447-4866-af7d-eb6e49975bcc",
   "metadata": {},
   "outputs": [],
   "source": [
    "import requests\n",
    "from PIL import Image\n",
    "\n",
    "url = \"http://images.cocodataset.org/val2017/000000039769.jpg\"\n",
    "image = Image.open(requests.get(url, stream=True).raw)\n",
    "\n",
    "import matplotlib.pyplot as plt\n",
    "import numpy as np\n",
    "\n",
    "plt.imshow(np.array(image))\n",
    "plt.show()"
   ]
  },
  {
   "cell_type": "code",
   "execution_count": null,
   "id": "d8cdc2a6-4c81-4f93-8426-065ee4c2b013",
   "metadata": {},
   "outputs": [],
   "source": [
    "ask(image, \"a photo of tshirt\")"
   ]
  }
 ],
 "metadata": {
  "kernelspec": {
   "display_name": "Python 3 (ipykernel)",
   "language": "python",
   "name": "python3"
  },
  "language_info": {
   "codemirror_mode": {
    "name": "ipython",
    "version": 3
   },
   "file_extension": ".py",
   "mimetype": "text/x-python",
   "name": "python",
   "nbconvert_exporter": "python",
   "pygments_lexer": "ipython3",
   "version": "3.11.11"
  }
 },
 "nbformat": 4,
 "nbformat_minor": 5
}
