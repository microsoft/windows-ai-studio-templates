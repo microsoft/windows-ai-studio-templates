{
 "cells": [
  {
   "cell_type": "code",
   "execution_count": null,
   "id": "aeb33f1a",
   "metadata": {
    "vscode": {
     "languageId": "plaintext"
    }
   },
   "outputs": [],
   "source": [
    "onnx_model_path = \"./model/openvino_model_quant_st.onnx\"\n",
    "ExecutionProvider=\"OpenVINOExecutionProvider\""
   ]
  },
  {
   "cell_type": "code",
   "execution_count": null,
   "id": "bf6bb9b8",
   "metadata": {
    "vscode": {
     "languageId": "plaintext"
    }
   },
   "outputs": [],
   "source": [
    "def _fix_winrt_runtime():\n",
    "    \"\"\"This function removes the msvcp140.dll from the winrt-runtime package.\n",
    "    So it does not cause issues with other libraries.\n",
    "    \"\"\"\n",
    "    from importlib import metadata\n",
    "    from pathlib import Path\n",
    "    site_packages_path = Path(str(metadata.distribution('winrt-runtime').locate_file('')))\n",
    "    dll_path = site_packages_path / 'winrt' / 'msvcp140.dll'\n",
    "    if dll_path.exists():\n",
    "        dll_path.unlink()\n",
    "            \n",
    "def _get_ep_paths() -> dict[str, str]:\n",
    "    from winui3.microsoft.windows.applicationmodel.dynamicdependency.bootstrap import (\n",
    "        InitializeOptions,\n",
    "        initialize\n",
    "    )\n",
    "    import winui3.microsoft.windows.ai.machinelearning as winml\n",
    "    eps = {}\n",
    "    with initialize(options = InitializeOptions.ON_NO_MATCH_SHOW_UI):\n",
    "        catalog = winml.ExecutionProviderCatalog.get_default()\n",
    "        providers = catalog.find_all_providers()\n",
    "        for provider in providers:\n",
    "            provider.ensure_ready_async().get()\n",
    "            eps[provider.name] = provider.library_path\n",
    "            # DO NOT call provider.try_register in python. That will register to the native env.\n",
    "    return eps\n",
    "\n",
    "def _regsiter_executino_providers_to_onnxruntime():\n",
    "    import onnxruntime as ort\n",
    "\n",
    "    paths = _get_ep_paths()\n",
    "    for item in paths.items():\n",
    "        print(f\"----register ort ep---- {item[0]} {item[1]}\")\n",
    "        ort.register_execution_provider_library(item[0], item[1])\n",
    "\n",
    "_fix_winrt_runtime()\n",
    "_regsiter_executino_providers_to_onnxruntime()"
   ]
  },
  {
   "cell_type": "code",
   "execution_count": null,
   "id": "307fcca8",
   "metadata": {
    "vscode": {
     "languageId": "plaintext"
    }
   },
   "outputs": [],
   "source": [
    "from PIL import Image\n",
    "import requests\n",
    " \n",
    "from transformers import CLIPProcessor\n",
    "import onnxruntime as ort\n",
    "import numpy as np\n",
    "import torch\n",
    " \n",
    "processor = CLIPProcessor.from_pretrained(\"openai/clip-vit-base-patch32\", use_fast=False)\n",
    " \n",
    "url = \"http://images.cocodataset.org/val2017/000000039769.jpg\"\n",
    "image = Image.open(requests.get(url, stream=True).raw)\n",
    " \n",
    "inputs = processor(text=[\"a photo of a cat\", \"a photo of a dog\", \"a photo of a cat\", \"a photo of a dog\", \"a photo of a cat\", \"a photo of a dog\", \"a photo of a cat\", \"a photo of a dog\", \"a photo of a cat\", \"a photo of a dog\"],\n",
    "                images=image, return_tensors=\"np\", padding=\"max_length\",\n",
    "                max_length= 77, truncation=True)\n",
    " \n",
    "\n",
    "def add_ep_for_device(session_options, ep_name, device_type, ep_options=None):\n",
    "    ep_devices = ort.get_ep_devices()\n",
    "    for ep_device in ep_devices:\n",
    "        if ep_device.ep_name == ep_name and ep_device.device.type == device_type:\n",
    "            print(f\"Adding {ep_name} for {device_type}\")\n",
    "            session_options.add_provider_for_devices([ep_device], {} if ep_options is None else ep_options)\n",
    " \n",
    "opts = ort.SessionOptions()\n",
    " \n",
    "add_ep_for_device(opts, ExecutionProvider, ort.OrtHardwareDeviceType.NPU)\n",
    "assert opts.has_providers()\n",
    "\n",
    "# options = ort.SessionOptions()\n",
    "session = ort.InferenceSession(onnx_model_path,\n",
    "    sess_options=opts,\n",
    "    # providers=[ExecutionProvider],\n",
    "    # provider_options=[provider_options]\n",
    ")\n",
    "logits_per_image = session.run([\"logits_per_image\"],\n",
    "                     {\n",
    "                        \"input_ids\": inputs['input_ids'].astype(np.int64),\n",
    "                        \"attention_mask\": inputs['attention_mask'].astype(np.int64),\n",
    "                        \"pixel_values\": inputs['pixel_values']\n",
    "                    })\n",
    " \n",
    "probs = torch.tensor(logits_per_image[0]).softmax(dim=1)\n",
    "print(\"Label probs:\", probs)"
   ]
  }
 ],
 "metadata": {
  "language_info": {
   "name": "python"
  }
 },
 "nbformat": 4,
 "nbformat_minor": 5
}
