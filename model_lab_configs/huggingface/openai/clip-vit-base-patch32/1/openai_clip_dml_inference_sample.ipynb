{
 "cells": [
  {
   "cell_type": "code",
   "execution_count": null,
   "id": "aeb33f1a",
   "metadata": {},
   "outputs": [],
   "source": [
    "onnx_model_path = \"./model/model.onnx\"\n",
    "ExecutionProvider=\"DmlExecutionProvider\""
   ]
  },
  {
   "cell_type": "code",
   "execution_count": null,
   "id": "307fcca8",
   "metadata": {},
   "outputs": [],
   "source": [
    "from PIL import Image\n",
    "import requests\n",
    " \n",
    "from transformers import CLIPProcessor\n",
    "import onnxruntime as ort\n",
    "import numpy as np\n",
    "import torch\n",
    " \n",
    "processor = CLIPProcessor.from_pretrained(\"openai/clip-vit-base-patch32\", use_fast=False)\n",
    " \n",
    "url = \"http://images.cocodataset.org/val2017/000000039769.jpg\"\n",
    "image = Image.open(requests.get(url, stream=True).raw)\n",
    " \n",
    "inputs = processor(text=[\"a photo of a cat\", \"a photo of a dog\", \"a photo of a cat\", \"a photo of a dog\", \"a photo of a cat\", \"a photo of a dog\", \"a photo of a cat\", \"a photo of a dog\", \"a photo of a cat\", \"a photo of a dog\"],\n",
    "                images=image, return_tensors=\"np\", padding=\"max_length\",\n",
    "                max_length= 77, truncation=True)\n",
    " \n",
    "\n",
    "def add_ep_for_device(session_options, ep_name, device_type, ep_options=None):\n",
    "    ep_devices = ort.get_ep_devices()\n",
    "    for ep_device in ep_devices:\n",
    "        if ep_device.ep_name == ep_name and ep_device.device.type == device_type:\n",
    "            print(f\"Adding {ep_name} for {device_type}\")\n",
    "            session_options.add_provider_for_devices([ep_device], {} if ep_options is None else ep_options)\n",
    "            break\n",
    " \n",
    "opts = ort.SessionOptions()\n",
    " \n",
    "add_ep_for_device(opts, ExecutionProvider, ort.OrtHardwareDeviceType.GPU)\n",
    "assert opts.has_providers()\n",
    "\n",
    "# options = ort.SessionOptions()\n",
    "session = ort.InferenceSession(onnx_model_path,\n",
    "    sess_options=opts,\n",
    "    # providers=[ExecutionProvider],\n",
    "    # provider_options=[provider_options]\n",
    ")\n",
    "logits_per_image = session.run([\"logits_per_image\"],\n",
    "                     {\n",
    "                        \"input_ids\": inputs['input_ids'].astype(np.int64),\n",
    "                        \"attention_mask\": inputs['attention_mask'].astype(np.int64),\n",
    "                        \"pixel_values\": inputs['pixel_values'].astype(np.float16)\n",
    "                    })\n",
    " \n",
    "probs = torch.tensor(logits_per_image[0]).softmax(dim=1)\n",
    "print(\"Label probs:\", probs)"
   ]
  }
 ],
 "metadata": {
  "kernelspec": {
   "display_name": "winml",
   "language": "python",
   "name": "python3"
  },
  "language_info": {
   "codemirror_mode": {
    "name": "ipython",
    "version": 3
   },
   "file_extension": ".py",
   "mimetype": "text/x-python",
   "name": "python",
   "nbconvert_exporter": "python",
   "pygments_lexer": "ipython3",
   "version": "3.12.9"
  }
 },
 "nbformat": 4,
 "nbformat_minor": 5
}
