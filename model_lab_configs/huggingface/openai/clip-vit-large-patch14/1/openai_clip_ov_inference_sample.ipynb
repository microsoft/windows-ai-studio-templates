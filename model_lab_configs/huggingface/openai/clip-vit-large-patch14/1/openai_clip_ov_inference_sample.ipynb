{
 "cells": [
  {
   "cell_type": "code",
   "execution_count": null,
   "id": "aeb33f1a",
   "metadata": {
    "vscode": {
     "languageId": "plaintext"
    }
   },
   "outputs": [],
   "source": [
    "onnx_model_path = \"./model/openvino_model_quant_st.onnx\"\n",
    "ExecutionProvider=\"OpenVINOExecutionProvider\""
   ]
  },
  {
   "cell_type": "code",
   "execution_count": null,
   "id": "307fcca8",
   "metadata": {
    "vscode": {
     "languageId": "plaintext"
    }
   },
   "outputs": [],
   "source": [
    "from PIL import Image\n",
    "import requests\n",
    " \n",
    "from transformers import CLIPProcessor\n",
    "import onnxruntime as ort\n",
    "import numpy as np\n",
    "import torch\n",
    " \n",
    "processor = CLIPProcessor.from_pretrained(\"openai/clip-vit-large-patch14\", use_fast=False)\n",
    " \n",
    "url = \"http://images.cocodataset.org/val2017/000000039769.jpg\"\n",
    "image = Image.open(requests.get(url, stream=True).raw)\n",
    " \n",
    "inputs = processor(text=[\"a photo of a cat\", \"a photo of a dog\", \"a photo of a cat\", \"a photo of a dog\", \"a photo of a cat\", \"a photo of a dog\", \"a photo of a cat\", \"a photo of a dog\", \"a photo of a cat\", \"a photo of a dog\"],\n",
    "                images=image, return_tensors=\"np\", padding=\"max_length\",\n",
    "                max_length= 77, truncation=True)\n",
    " \n",
    "\n",
    "def add_ep_for_device(session_options, ep_name, device_type, ep_options=None):\n",
    "    ep_devices = ort.get_ep_devices()\n",
    "    for ep_device in ep_devices:\n",
    "        if ep_device.ep_name == ep_name and ep_device.device.type == device_type:\n",
    "            print(f\"Adding {ep_name} for {device_type}\")\n",
    "            session_options.add_provider_for_devices([ep_device], {} if ep_options is None else ep_options)\n",
    " \n",
    "opts = ort.SessionOptions()\n",
    " \n",
    "add_ep_for_device(opts, ExecutionProvider, ort.OrtHardwareDeviceType.NPU)\n",
    "assert opts.has_providers()\n",
    "\n",
    "# options = ort.SessionOptions()\n",
    "session = ort.InferenceSession(onnx_model_path,\n",
    "    sess_options=opts,\n",
    "    # providers=[ExecutionProvider],\n",
    "    # provider_options=[provider_options]\n",
    ")\n",
    "logits_per_image = session.run([\"logits_per_image\"],\n",
    "                     {\n",
    "                        \"input_ids\": inputs['input_ids'].astype(np.int64),\n",
    "                        \"attention_mask\": inputs['attention_mask'].astype(np.int64),\n",
    "                        \"pixel_values\": inputs['pixel_values']\n",
    "                    })\n",
    " \n",
    "probs = torch.tensor(logits_per_image[0]).softmax(dim=1)\n",
    "print(\"Label probs:\", probs)"
   ]
  }
 ],
 "metadata": {
  "language_info": {
   "name": "python"
  }
 },
 "nbformat": 4,
 "nbformat_minor": 5
}
