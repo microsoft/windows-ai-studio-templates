{
 "cells": [
  {
   "cell_type": "code",
   "execution_count": null,
   "metadata": {},
   "outputs": [],
   "source": [
    "import numpy as np\n",
    "import onnxruntime as ort\n",
    "import time\n",
    "import torch\n",
    "import torchvision.transforms as transforms\n",
    "from datasets import load_dataset\n",
    "from transformers import ViTFeatureExtractor, ViTForImageClassification"
   ]
  },
  {
   "cell_type": "code",
   "execution_count": null,
   "metadata": {},
   "outputs": [],
   "source": [
    "num_samples = 256"
   ]
  },
  {
   "cell_type": "code",
   "execution_count": null,
   "metadata": {},
   "outputs": [],
   "source": [
    "# Load datasets\n",
    "\n",
    "feature_extractor = ViTFeatureExtractor.from_pretrained(\"google/vit-base-patch16-224\")\n",
    "preprocess = transforms.Compose([\n",
    "    transforms.Lambda(lambda img: img.convert(\"RGB\")),\n",
    "    transforms.Resize((224, 224)),\n",
    "    transforms.ToTensor(),\n",
    "    transforms.Normalize(mean=feature_extractor.image_mean, std=feature_extractor.image_std),\n",
    "])\n",
    "\n",
    "def imageTransform(example):\n",
    "    example[\"image\"] = preprocess(example[\"image\"])\n",
    "    return example\n",
    "datasetStream = load_dataset(\"imagenet-1k\", split=\"validation\", streaming=True, trust_remote_code=True)\n",
    "iterable_dataset = iter(datasetStream)\n",
    "selected_samples = [next(iterable_dataset) for _ in range(num_samples)]\n",
    "selected_samples = list(map(imageTransform, selected_samples))"
   ]
  },
  {
   "cell_type": "code",
   "execution_count": null,
   "metadata": {},
   "outputs": [],
   "source": [
    "# Original model metrics\n",
    "\n",
    "def evaluate_torch(model, selected_samples, device):\n",
    "    model.eval()\n",
    "    correct, total = 0, 0\n",
    "    latencies = []\n",
    "    with torch.no_grad():\n",
    "        for example in selected_samples:\n",
    "            image = example[\"image\"].unsqueeze(0).to(device)\n",
    "            label = torch.tensor(example[\"label\"]).to(device)\n",
    "            \n",
    "            start_time = time.time()\n",
    "            output = model(image)\n",
    "            end_time = time.time()\n",
    "            \n",
    "            latencies.append((end_time - start_time))\n",
    "            pred = torch.argmax(output.logits, dim=1)\n",
    "            correct += (pred == label).sum().item()\n",
    "            total += 1\n",
    "    \n",
    "    accuracy = correct / total\n",
    "    avg_latency = np.mean(latencies)\n",
    "    return accuracy, avg_latency\n",
    "\n",
    "device = torch.device(\"cpu\")\n",
    "model = ViTForImageClassification.from_pretrained(\"google/vit-base-patch16-224\").to(device)\n",
    "accuracy, avg_latency = evaluate_torch(model, selected_samples, device)\n",
    "\n",
    "print(f\"Original Model Accuracy: {accuracy * 100:.2f}%\")\n",
    "print(f\"Original Model Average Latency Per Image: {avg_latency * 1000:.2f} ms\")"
   ]
  },
  {
   "cell_type": "code",
   "execution_count": null,
   "metadata": {},
   "outputs": [],
   "source": [
    "# Quantized model metrics\n",
    "\n",
    "def evaluate_onnx(session, selected_samples):\n",
    "    correct, total = 0, 0\n",
    "    latencies = []\n",
    "    input_name = session.get_inputs()[0].name\n",
    "    output_name = session.get_outputs()[0].name\n",
    "\n",
    "    for example in selected_samples:\n",
    "        image = np.expand_dims(example[\"image\"], axis=0)\n",
    "        label = example[\"label\"]\n",
    "        \n",
    "        start_time = time.time()\n",
    "        output = session.run([output_name], {input_name: image})[0]\n",
    "        end_time = time.time()\n",
    "        \n",
    "        latencies.append((end_time - start_time))\n",
    "        pred = np.argmax(output, axis=1)[0]\n",
    "        correct += (pred == label)\n",
    "        total += 1\n",
    "    \n",
    "    accuracy = correct / total\n",
    "    avg_latency = np.mean(latencies)\n",
    "    return accuracy, avg_latency\n",
    "\n",
    "model_file_path = \"./model/model.onnx\"\n",
    "options = ort.SessionOptions()\n",
    "session = ort.InferenceSession(model_file_path, sess_options=options,\n",
    "                               providers=[\"QNNExecutionProvider\"],\n",
    "                               provider_options=[{\"backend_path\": \"QnnHtp.dll\"}])\n",
    "accuracy, avg_latency = evaluate_onnx(session, selected_samples)\n",
    "\n",
    "print(f\"Quantized Model Accuracy: {accuracy * 100:.2f}%\")\n",
    "print(f\"Quantized Model Average Latency Per Image: {avg_latency * 1000:.2f} ms\")"
   ]
  }
 ],
 "metadata": {
  "kernelspec": {
   "display_name": "Python 3 (ipykernel)",
   "language": "python",
   "name": "python3"
  },
  "language_info": {
   "codemirror_mode": {
    "name": "ipython",
    "version": 3
   },
   "file_extension": ".py",
   "mimetype": "text/x-python",
   "name": "python",
   "nbconvert_exporter": "python",
   "pygments_lexer": "ipython3",
   "version": "3.11.9"
  }
 },
 "nbformat": 4,
 "nbformat_minor": 4
}
