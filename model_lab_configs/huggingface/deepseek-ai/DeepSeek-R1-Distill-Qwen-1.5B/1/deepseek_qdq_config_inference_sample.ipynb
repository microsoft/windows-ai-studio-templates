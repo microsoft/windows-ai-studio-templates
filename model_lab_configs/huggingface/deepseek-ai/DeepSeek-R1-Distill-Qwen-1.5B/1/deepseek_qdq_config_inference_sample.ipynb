{
 "cells": [
  {
   "cell_type": "markdown",
   "metadata": {},
   "source": [
    "## 🐍 Install Python dependencies\n",
    "\n",
    "The following cells create a pip requirements file and then install the libraries."
   ]
  },
  {
   "cell_type": "code",
   "execution_count": null,
   "metadata": {},
   "outputs": [],
   "source": [
    "%%writefile requirements.txt\n",
    "\n",
    "olive-ai\n",
    "onnxruntime-genai==0.6.0rc1\n",
    "transformers==4.44.2\n",
    "optimum==1.23.1\n",
    "bitsandbytes==0.45.1\n",
    "peft==0.13.2\n",
    "accelerate>=0.30.0\n",
    "scipy==1.14.1\n",
    "torchvision==0.18.1\n",
    "tabulate==0.9.0"
   ]
  },
  {
   "cell_type": "code",
   "execution_count": null,
   "metadata": {
    "id": "ZtY3VYxCoDfm"
   },
   "outputs": [],
   "source": [
    "%%capture\n",
    "\n",
    "%pip install -r requirements.txt"
   ]
  },
  {
   "cell_type": "markdown",
   "metadata": {
    "id": "8Uwm432loDfr"
   },
   "source": [
    "## 🧠 Inference\n",
    "\n",
    "The code below creates a test app that consumes the finetuned model in a simple console chat interface. Whilst the inference code uses the Python API for the ONNX Runtime, other language bindings are available in [Java, C#, C++](https://github.com/microsoft/onnxruntime-genai/tree/main/examples).\n",
    "\n",
    "By default, the code will use the fine-tuned adapter to deliver more concise responses. To see the output of the original model (no fintuning), set `USE_ADAPTER = False`."
   ]
  },
  {
   "cell_type": "code",
   "execution_count": null,
   "metadata": {
    "id": "puMdoAxjoDfr"
   },
   "outputs": [],
   "source": [
    "import onnxruntime_genai as og\n",
    "\n",
    "USE_ADAPTER = True\n",
    "\n",
    "model_path = \"./model\"\n",
    "\n",
    "model = og.Model(f'{model_path}')\n",
    "adapters = og.Adapters(model)\n",
    "adapters.load(f'{model_path}/adapter_weights.onnx_adapter', \"en_medical_reasoning\")\n",
    "tokenizer = og.Tokenizer(model)\n",
    "tokenizer_stream = tokenizer.create_stream()\n",
    "\n",
    "prompt_template = \"\"\"\n",
    "Below is an instruction that describes a task, paired with an input that provides further context. \n",
    "Write a response that appropriately completes the request. \n",
    "Before answering, think carefully about the question and create a step-by-step chain of thoughts to ensure a logical and accurate response.\n",
    "\n",
    "### Instruction:\n",
    "You are a medical expert with advanced knowledge in clinical reasoning, diagnostics, and treatment planning. \n",
    "Please answer the following medical question. \n",
    "\n",
    "### Question:\n",
    "{}\n",
    "\n",
    "### Response:\n",
    "<think>\n",
    "\"\"\"\n",
    "\n",
    "question = \"\"\"\n",
    "        A 54-year-old construction worker with a long history of smoking presents with swelling in his upper extremity and face, along with \n",
    "        dilated veins in this region. After conducting a CT scan and venogram of the neck, what is the most likely diagnosis for the cause of these symptoms?\n",
    "\"\"\"\n",
    "prompt = prompt_template.format(question, \"\")\n",
    "input_tokens = tokenizer.encode(prompt)\n",
    "\n",
    "# first run without the adapter\n",
    "params = og.GeneratorParams(model)\n",
    "params.set_search_options(past_present_share_buffer=False, temperature=0.6, max_length=1200)\n",
    "generator = og.Generator(model, params)\n",
    "# set the adapter to active for this response\n",
    "\n",
    "if USE_ADAPTER:\n",
    "        generator.set_active_adapter(adapters, \"en_medical_reasoning\")\n",
    "\n",
    "generator.append_tokens(input_tokens)\n",
    "\n",
    "print(\"Output: \", end='', flush=True)\n",
    "\n",
    "while not generator.is_done():\n",
    "        generator.generate_next_token()\n",
    "        new_token = generator.get_next_tokens()[0]\n",
    "        print(tokenizer_stream.decode(new_token), end='', flush=True)\n",
    "print()\n",
    "print()\n",
    "del generator"
   ]
  }
 ],
 "metadata": {
  "accelerator": "GPU",
  "colab": {
   "gpuType": "A100",
   "provenance": [],
   "toc_visible": true
  },
  "kernelspec": {
   "display_name": "genai-cpu",
   "language": "python",
   "name": "python3"
  },
  "language_info": {
   "codemirror_mode": {
    "name": "ipython",
    "version": 3
   },
   "file_extension": ".py",
   "mimetype": "text/x-python",
   "name": "python",
   "nbconvert_exporter": "python",
   "pygments_lexer": "ipython3",
   "version": "3.12.8"
  }
 },
 "nbformat": 4,
 "nbformat_minor": 0
}
