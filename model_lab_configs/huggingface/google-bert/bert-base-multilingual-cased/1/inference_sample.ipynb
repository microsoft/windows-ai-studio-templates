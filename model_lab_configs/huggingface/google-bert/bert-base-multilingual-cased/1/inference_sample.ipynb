{
 "cells": [
  {
   "cell_type": "code",
   "execution_count": null,
   "metadata": {},
   "outputs": [],
   "source": [
    "onnx_model_path = \"./model/model.onnx\"\n",
    "\n",
    "ExecutionProvider=\"QNNExecutionProvider\"\n",
    "\n",
    "if ExecutionProvider == \"VitisAIExecutionProvider\":\n",
    "    provider_options={\n",
    "            \"target\": \"RyzenAI_google_bert\",\n",
    "            \"cache_dir\": \"C:\\\\temp\",\n",
    "            \"dd_write_debug_files\": \"true\",\n",
    "            \"log_level\": \"info\"\n",
    "        }\n",
    "else:\n",
    "    # default for QNNExecutionProvider\n",
    "    provider_options={\"backend_path\": \"QnnHtp.dll\"}\n"
   ]
  },
  {
   "cell_type": "code",
   "execution_count": null,
   "metadata": {},
   "outputs": [],
   "source": [
    "inputs = \"This is an example sentence.\""
   ]
  },
  {
   "cell_type": "code",
   "execution_count": null,
   "metadata": {},
   "outputs": [],
   "source": [
    "import numpy as np\n",
    "import onnxruntime\n",
    "import torch\n",
    "import torch.nn.functional as F\n",
    "from pathlib import Path\n",
    "from transformers import AutoModel, AutoTokenizer"
   ]
  },
  {
   "cell_type": "code",
   "execution_count": null,
   "metadata": {},
   "outputs": [],
   "source": [
    "def mean_pooling(model_output, attention_mask):\n",
    "    token_embeddings = torch.tensor(model_output[0])\n",
    "    input_mask_expanded = attention_mask.unsqueeze(-1).expand_as(token_embeddings).float()\n",
    "    return torch.sum(token_embeddings * input_mask_expanded, 1) / torch.clamp(input_mask_expanded.sum(1), min=1e-9)"
   ]
  },
  {
   "cell_type": "code",
   "execution_count": null,
   "metadata": {},
   "outputs": [],
   "source": [
    "tokenizer = AutoTokenizer.from_pretrained('google-bert/bert-base-multilingual-cased')\n",
    "encoded_input = tokenizer(\n",
    "    inputs,\n",
    "    padding=\"max_length\",\n",
    "    max_length=128,\n",
    "    truncation=True,\n",
    "    add_special_tokens=True,\n",
    "    return_tensors=\"pt\",\n",
    ")"
   ]
  },
  {
   "cell_type": "code",
   "execution_count": null,
   "metadata": {},
   "outputs": [],
   "source": [
    "# get text embedding from quantized model.\n",
    "options = onnxruntime.SessionOptions()\n",
    "# options.add_session_config_entry(\"session.disable_cpu_ep_fallback\", \"1\")\n",
    "session = onnxruntime.InferenceSession(onnx_model_path,\n",
    "    sess_options=options,\n",
    "    providers=[ExecutionProvider],\n",
    "    provider_options=[provider_options])\n",
    "\n",
    "input_ids = encoded_input[\"input_ids\"]\n",
    "attention_mask = encoded_input[\"attention_mask\"]\n",
    "token_type_ids = encoded_input[\"token_type_ids\"]\n",
    "inputs = {\n",
    "    \"input_ids\": input_ids.long().cpu().numpy(),\n",
    "    \"attention_mask\": attention_mask.long().cpu().numpy(),\n",
    "    \"token_type_ids\": token_type_ids.long().cpu().numpy()\n",
    "}\n",
    "\n",
    "outputs = session.run(None, inputs)\n",
    "embeds_1 = mean_pooling(outputs, encoded_input['attention_mask'])\n",
    "embeds_1 = F.normalize(embeds_1, p=2, dim=1)"
   ]
  },
  {
   "cell_type": "code",
   "execution_count": null,
   "metadata": {},
   "outputs": [],
   "source": [
    "# get text embedding from orinal model, as ground truth.\n",
    "model = AutoModel.from_pretrained('google-bert/bert-base-multilingual-cased').eval()\n",
    "with torch.no_grad():\n",
    "    outputs = model(**encoded_input)\n",
    "    embeds_2 = mean_pooling(outputs, encoded_input['attention_mask'])\n",
    "    embeds_2 = F.normalize(embeds_2, p=2, dim=1)"
   ]
  },
  {
   "cell_type": "code",
   "execution_count": null,
   "metadata": {},
   "outputs": [],
   "source": [
    "similarity = F.cosine_similarity(embeds_1, embeds_2).item()\n",
    "print(\"Similarity: \", similarity)"
   ]
  }
 ],
 "metadata": {
  "kernelspec": {
   "display_name": "Python 3 (ipykernel)",
   "language": "python",
   "name": "python3"
  },
  "language_info": {
   "codemirror_mode": {
    "name": "ipython",
    "version": 3
   },
   "file_extension": ".py",
   "mimetype": "text/x-python",
   "name": "python",
   "nbconvert_exporter": "python",
   "pygments_lexer": "ipython3",
   "version": "3.11.9"
  }
 },
 "nbformat": 4,
 "nbformat_minor": 4
}
