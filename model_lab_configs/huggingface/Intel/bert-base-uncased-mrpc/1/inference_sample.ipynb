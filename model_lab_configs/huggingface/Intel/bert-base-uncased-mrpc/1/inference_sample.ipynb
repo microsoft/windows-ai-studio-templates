{
 "cells": [
  {
   "cell_type": "code",
   "execution_count": null,
   "metadata": {},
   "outputs": [],
   "source": [
    "onnx_model_path = \"./model/model.onnx\""
   ]
  },
  {
   "cell_type": "code",
   "execution_count": null,
   "metadata": {},
   "outputs": [],
   "source": [
    "import onnxruntime as ort\n",
    "from transformers import BertTokenizer\n",
    "import numpy as np\n",
    "\n",
    "# Load the tokenizer\n",
    "tokenizer = BertTokenizer.from_pretrained('bert-base-uncased')\n",
    "\n",
    "# Load the ONNX model\n",
    "#qnn session\n",
    "options = ort.SessionOptions()\n",
    "# options.add_session_config_entry(\"session.disable_cpu_ep_fallback\", \"1\")\n",
    "session = ort.InferenceSession(onnx_model_path,\n",
    "    sess_options=options,\n",
    "    providers=[\"QNNExecutionProvider\"],\n",
    "    provider_options=[{\"backend_path\": \"QnnHtp.dll\"}])\n",
    "\n",
    "def areParaphrases(sentence1, sentence2):\n",
    "    # Tokenize the input sentences\n",
    "    inputs = tokenizer(sentence1, sentence2, return_tensors='np', padding='max_length', truncation=True, max_length=128)\n",
    "\n",
    "    # Convert inputs to numpy arrays\n",
    "    input_ids = inputs['input_ids']\n",
    "    attention_mask = inputs['attention_mask']\n",
    "    token_type_ids = inputs['token_type_ids']\n",
    "\n",
    "    # Run inference\n",
    "    outputs = session.run(None, {\n",
    "        'input_ids': input_ids.astype(np.int64),\n",
    "        'attention_mask': attention_mask.astype(np.int64),\n",
    "        'token_type_ids': token_type_ids.astype(np.int64)\n",
    "    })\n",
    "\n",
    "    # Get the prediction\n",
    "    logits = outputs[0]\n",
    "    predicted_label = np.argmax(logits, axis=1)\n",
    "    return predicted_label == 1"
   ]
  },
  {
   "cell_type": "code",
   "execution_count": null,
   "metadata": {},
   "outputs": [],
   "source": [
    "# Prepare the input data\n",
    "sentence1 = \"The company Hugging Face is based in New York City.\"\n",
    "sentence2 = \"Hugging Face's headquarters are situated in NYC.\"\n",
    "sentence3 = \"New York City is big.\"\n",
    "\n",
    "# Interpret the result\n",
    "if areParaphrases(sentence1, sentence2):\n",
    "    print(\"Expected: The sentences are paraphrases.\")\n",
    "else:\n",
    "    print(\"Not expected: The sentences are not paraphrases.\")\n",
    "\n",
    "if areParaphrases(sentence1, sentence3):\n",
    "    print(\"Not expected: The sentences are paraphrases.\")\n",
    "else:\n",
    "    print(\"Expected: The sentences are not paraphrases.\")"
   ]
  }
 ],
 "metadata": {
  "language_info": {
   "name": "python"
  }
 },
 "nbformat": 4,
 "nbformat_minor": 2
}
