{
 "cells": [
  {
   "cell_type": "code",
   "execution_count": null,
   "id": "aeb33f1a",
   "metadata": {
    "vscode": {
     "languageId": "plaintext"
    }
   },
   "outputs": [],
   "source": [
    "onnx_model_path = \"./model/model.onnx\"\n",
    "ExecutionProvider=\"QNNExecutionProvider\"\n",
    "provider_options={}\n",
    "if ExecutionProvider == \"QNNExecutionProvider\":\n",
    "    provider_options={\"backend_path\": \"QnnHtp.dll\"}\n",
    "elif ExecutionProvider == \"OpenVINOExecutionProvider\":\n",
    "    onnx_model_path = \"./model/ov_model.onnx\""
   ]
  },
  {
   "cell_type": "code",
   "execution_count": null,
   "id": "307fcca8",
   "metadata": {
    "vscode": {
     "languageId": "plaintext"
    }
   },
   "outputs": [],
   "source": [
    "import onnxruntime as ort"
   ]
  }
 ],
 "metadata": {
  "language_info": {
   "name": "python"
  }
 },
 "nbformat": 4,
 "nbformat_minor": 5
}
