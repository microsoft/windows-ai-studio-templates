{
 "cells": [
  {
   "cell_type": "code",
   "execution_count": null,
   "id": "6d7ac701",
   "metadata": {},
   "outputs": [],
   "source": [
    "import json\n",
    "import matplotlib.pyplot as plt\n",
    "\n",
    "# Load the JSON file\n",
    "with open('trainer_state.json', 'r') as f:\n",
    "    data = json.load(f)\n",
    "\n",
    "histories = data['log_history']\n",
    "steps = [entry['step'] for entry in histories if ('step' in entry and 'loss' in entry)]\n",
    "losses = [entry['loss'] for entry in histories if ('step' in entry and 'loss' in entry)]\n",
    "\n",
    "plt.figure(figsize=(10, 5))\n",
    "plt.plot(steps, losses, marker='o')\n",
    "plt.xlabel('Step')\n",
    "plt.ylabel('Loss')\n",
    "plt.title('Training Loss over Steps')\n",
    "plt.grid(True)\n",
    "plt.show()"
   ]
  }
 ],
 "metadata": {
  "kernelspec": {
   "display_name": "Python 3",
   "language": "python",
   "name": "python3"
  },
  "language_info": {
   "codemirror_mode": {
    "name": "ipython",
    "version": 3
   },
   "file_extension": ".py",
   "mimetype": "text/x-python",
   "name": "python",
   "nbconvert_exporter": "python",
   "pygments_lexer": "ipython3",
   "version": "3.13.5"
  }
 },
 "nbformat": 4,
 "nbformat_minor": 5
}
